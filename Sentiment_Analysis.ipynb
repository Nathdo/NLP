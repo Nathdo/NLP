{
 "cells": [
  {
   "cell_type": "markdown",
   "id": "6d2db682-4bee-4371-a921-a18777bb56d8",
   "metadata": {
    "jp-MarkdownHeadingCollapsed": true,
    "tags": []
   },
   "source": [
    "# Hugging Face 🤗 - Sentiment Analysis Using Vader, Roberta & Bert\n",
    "\n",
    "* **Vader:** This model provides negativity, neutrality, and positivity scores to evaluate the sentiment of a sentence. It also includes a *`compound`* score, which represents a synthesis of the previous three scores. The *`compound`* score ranges between -1 and 1, where -1 indicates extremely negative sentiment, 1 indicates extremely positive sentiment, and 0 indicates complete neutrality.\n",
    "\n",
    "* **Roberta:** Similar to Vader in terms of functionality, Roberta is a more advanced version that offers enhanced sentiment detection capabilities. However, unlike Vader, Roberta does not calculate a *`compound`* score. This model is optimized to handle more complex language and capture subtle nuances in texts.\n",
    "\n",
    "* **Bert:** Bert specializes in product review analysis, supporting six languages: English, Dutch, German, French, Spanish and Italian. This model predicts the sentiment expressed in a review as a star rating, ranging from 1 to 5, where 1 is the most negative and 5 is the most positive.\n",
    "\n",
    "\n",
    "**Choice of models:**\n",
    "\n",
    "* Bert is particularly effective at analyzing product reviews, especially if your data is multilingual (English, Dutch, German, French, Spanish, Italian). It works well when you need results in the form of a star rating, which can be intuitive for tasks related to customer satisfaction or product review. Bert is a model that interprets reviews in a gradual manner, which is useful for recommendation systems\n",
    "\n",
    "* Roberta (best model), being an improved version of the BERT model (on which it is based), generally performs better at understanding more subtle nuances in text. Roberta is not limited to a specific type of text like Bert with Product Reviews, making it more versatile for various types of text data, including news articles, tweets, or conversations.\n",
    "\n",
    "* Vader particularly excels with short, informal texts, like tweets or social media comments, as it is specifically designed to interpret everyday language and emojis frequently used in these types of communication. Vader is designed to be lightweight and fast, making it ideal for applications requiring real-time responses or processing large volumes of data quickly."
   ]
  },
  {
   "cell_type": "markdown",
   "id": "4e2f6127-3e13-4aab-97b7-9b5b124b768a",
   "metadata": {
    "tags": []
   },
   "source": [
    "# 1. Vader"
   ]
  },
  {
   "cell_type": "code",
   "execution_count": 1,
   "id": "e9c0e078-b5dc-427f-a306-8e6a91a0f070",
   "metadata": {},
   "outputs": [],
   "source": [
    "import nltk\n",
    "from nltk.sentiment.vader import SentimentIntensityAnalyzer\n",
    "\n",
    "sid = SentimentIntensityAnalyzer() "
   ]
  },
  {
   "cell_type": "code",
   "execution_count": 2,
   "id": "1dfffc90-877c-48b5-8d2d-dcefb39f3081",
   "metadata": {},
   "outputs": [
    {
     "data": {
      "text/plain": [
       "{'neg': 0.0, 'neu': 0.445, 'pos': 0.555, 'compound': 0.7177}"
      ]
     },
     "execution_count": 2,
     "metadata": {},
     "output_type": "execute_result"
    }
   ],
   "source": [
    "# positive sentence\n",
    "pos_sentence = 'This men is so beautiful'\n",
    "sid.polarity_scores(pos_sentence)"
   ]
  },
  {
   "cell_type": "code",
   "execution_count": 3,
   "id": "64f1af4d-661b-4fec-a502-3d3f2813d2e9",
   "metadata": {},
   "outputs": [
    {
     "data": {
      "text/plain": [
       "{'neg': 0.677, 'neu': 0.323, 'pos': 0.0, 'compound': -0.8881}"
      ]
     },
     "execution_count": 3,
     "metadata": {},
     "output_type": "execute_result"
    }
   ],
   "source": [
    "# negative sentence\n",
    "neg_sentence = 'It’s a shitty movie! what a waste of time, Fuck!'\n",
    "sid.polarity_scores(neg_sentence)"
   ]
  },
  {
   "cell_type": "code",
   "execution_count": 4,
   "id": "8e03db74-7b18-44fe-941b-cf4ab064ce19",
   "metadata": {},
   "outputs": [
    {
     "data": {
      "text/plain": [
       "{'neg': 0.0, 'neu': 1.0, 'pos': 0.0, 'compound': 0.0}"
      ]
     },
     "execution_count": 4,
     "metadata": {},
     "output_type": "execute_result"
    }
   ],
   "source": [
    "# neutral sentence\n",
    "neutral_sentence = 'birds fly in the sky'\n",
    "sid.polarity_scores(neutral_sentence)"
   ]
  },
  {
   "cell_type": "code",
   "execution_count": 8,
   "id": "f9904984-0c24-41c3-aceb-a283df68d39f",
   "metadata": {},
   "outputs": [
    {
     "data": {
      "text/html": [
       "<div>\n",
       "<style scoped>\n",
       "    .dataframe tbody tr th:only-of-type {\n",
       "        vertical-align: middle;\n",
       "    }\n",
       "\n",
       "    .dataframe tbody tr th {\n",
       "        vertical-align: top;\n",
       "    }\n",
       "\n",
       "    .dataframe thead th {\n",
       "        text-align: right;\n",
       "    }\n",
       "</style>\n",
       "<table border=\"1\" class=\"dataframe\">\n",
       "  <thead>\n",
       "    <tr style=\"text-align: right;\">\n",
       "      <th></th>\n",
       "      <th>label</th>\n",
       "      <th>review</th>\n",
       "    </tr>\n",
       "  </thead>\n",
       "  <tbody>\n",
       "    <tr>\n",
       "      <th>0</th>\n",
       "      <td>pos</td>\n",
       "      <td>Stuning even for the non-gamer: This sound tra...</td>\n",
       "    </tr>\n",
       "    <tr>\n",
       "      <th>1</th>\n",
       "      <td>pos</td>\n",
       "      <td>The best soundtrack ever to anything.: I'm rea...</td>\n",
       "    </tr>\n",
       "    <tr>\n",
       "      <th>2</th>\n",
       "      <td>pos</td>\n",
       "      <td>Amazing!: This soundtrack is my favorite music...</td>\n",
       "    </tr>\n",
       "  </tbody>\n",
       "</table>\n",
       "</div>"
      ],
      "text/plain": [
       "  label                                             review\n",
       "0   pos  Stuning even for the non-gamer: This sound tra...\n",
       "1   pos  The best soundtrack ever to anything.: I'm rea...\n",
       "2   pos  Amazing!: This soundtrack is my favorite music..."
      ]
     },
     "execution_count": 8,
     "metadata": {},
     "output_type": "execute_result"
    }
   ],
   "source": [
    "import pandas as pd\n",
    "\n",
    "data = pd.read_csv('/Users/nathan/Desktop/UPDATED_NLP_COURSE/TextFiles/amazonreviews.tsv', sep = '\\t')\n",
    "data.head(3)"
   ]
  },
  {
   "cell_type": "code",
   "execution_count": 6,
   "id": "9ba359e2-f640-42a0-b86f-1700492a17ba",
   "metadata": {},
   "outputs": [
    {
     "data": {
      "text/plain": [
       "neg    0.5097\n",
       "pos    0.4903\n",
       "Name: label, dtype: float64"
      ]
     },
     "execution_count": 6,
     "metadata": {},
     "output_type": "execute_result"
    }
   ],
   "source": [
    "data.label.value_counts(normalize = True)"
   ]
  },
  {
   "cell_type": "code",
   "execution_count": 7,
   "id": "168b47c8-a732-44bb-ac5f-4cc29e8ebb3e",
   "metadata": {},
   "outputs": [
    {
     "name": "stdout",
     "output_type": "stream",
     "text": [
      "None\n"
     ]
    }
   ],
   "source": [
    "# checking for blanck values\n",
    "\n",
    "blanks = []\n",
    "\n",
    "for index, first, sec in data.itertuples():\n",
    "    if type(sec) == str:\n",
    "        if sec.isspace():\n",
    "            blanks.append(sec)\n",
    "            \n",
    "if any(blanks):\n",
    "    print('There are blanks values')\n",
    "else:\n",
    "    print(None)"
   ]
  },
  {
   "cell_type": "markdown",
   "id": "a07fe7ed-45ce-41b9-ad7f-dcbe4a0f5daa",
   "metadata": {},
   "source": [
    "## Method Brut"
   ]
  },
  {
   "cell_type": "code",
   "execution_count": 8,
   "id": "76644e7e-34ac-4bb5-902e-414f0fc56918",
   "metadata": {},
   "outputs": [
    {
     "data": {
      "text/plain": [
       "{'Positive': 6795, 'Negative': 3064}"
      ]
     },
     "execution_count": 8,
     "metadata": {},
     "output_type": "execute_result"
    }
   ],
   "source": [
    "dict_sentiment = {}\n",
    "\n",
    "count_pos = 0\n",
    "count_neg = 0\n",
    "\n",
    "for element in data.review:\n",
    "    sentence = element\n",
    "    result = sid.polarity_scores(sentence).get('compound')\n",
    "    if result > 0:\n",
    "        count_pos += 1\n",
    "    elif result < 0:\n",
    "        count_neg += 1\n",
    "        \n",
    "dict_sentiment['Positive'] = count_pos\n",
    "dict_sentiment['Negative'] = count_neg\n",
    "\n",
    "dict_sentiment"
   ]
  },
  {
   "cell_type": "code",
   "execution_count": 9,
   "id": "8953a700-24d5-4e1a-90c1-b993ddddba34",
   "metadata": {},
   "outputs": [
    {
     "name": "stdout",
     "output_type": "stream",
     "text": [
      "Positive: 0.68%\n",
      "Negative: 0.32%\n"
     ]
    }
   ],
   "source": [
    "print(f'Positive: {dict_sentiment.get(\"Positive\") / data.review.shape[0]:.2f}%')\n",
    "print(f'Negative: {1 - (dict_sentiment.get(\"Positive\") / data.review.shape[0]):.2f}%')"
   ]
  },
  {
   "cell_type": "markdown",
   "id": "ce6d3bdb-bc6d-48b6-8a6d-5ebdd58ac3dc",
   "metadata": {},
   "source": [
    "## Analyzing Vader"
   ]
  },
  {
   "cell_type": "code",
   "execution_count": 10,
   "id": "caa01a47-f8fd-4d43-b159-010b0ee9f8e6",
   "metadata": {},
   "outputs": [
    {
     "data": {
      "text/html": [
       "<div>\n",
       "<style scoped>\n",
       "    .dataframe tbody tr th:only-of-type {\n",
       "        vertical-align: middle;\n",
       "    }\n",
       "\n",
       "    .dataframe tbody tr th {\n",
       "        vertical-align: top;\n",
       "    }\n",
       "\n",
       "    .dataframe thead th {\n",
       "        text-align: right;\n",
       "    }\n",
       "</style>\n",
       "<table border=\"1\" class=\"dataframe\">\n",
       "  <thead>\n",
       "    <tr style=\"text-align: right;\">\n",
       "      <th></th>\n",
       "      <th>label</th>\n",
       "      <th>review</th>\n",
       "      <th>Vader_Results</th>\n",
       "      <th>Results</th>\n",
       "    </tr>\n",
       "  </thead>\n",
       "  <tbody>\n",
       "    <tr>\n",
       "      <th>0</th>\n",
       "      <td>pos</td>\n",
       "      <td>Stuning even for the non-gamer: This sound tra...</td>\n",
       "      <td>0.9454</td>\n",
       "      <td>pos</td>\n",
       "    </tr>\n",
       "    <tr>\n",
       "      <th>1</th>\n",
       "      <td>pos</td>\n",
       "      <td>The best soundtrack ever to anything.: I'm rea...</td>\n",
       "      <td>0.8957</td>\n",
       "      <td>pos</td>\n",
       "    </tr>\n",
       "    <tr>\n",
       "      <th>2</th>\n",
       "      <td>pos</td>\n",
       "      <td>Amazing!: This soundtrack is my favorite music...</td>\n",
       "      <td>0.9858</td>\n",
       "      <td>pos</td>\n",
       "    </tr>\n",
       "    <tr>\n",
       "      <th>3</th>\n",
       "      <td>pos</td>\n",
       "      <td>Excellent Soundtrack: I truly like this soundt...</td>\n",
       "      <td>0.9814</td>\n",
       "      <td>pos</td>\n",
       "    </tr>\n",
       "    <tr>\n",
       "      <th>4</th>\n",
       "      <td>pos</td>\n",
       "      <td>Remember, Pull Your Jaw Off The Floor After He...</td>\n",
       "      <td>0.9781</td>\n",
       "      <td>pos</td>\n",
       "    </tr>\n",
       "  </tbody>\n",
       "</table>\n",
       "</div>"
      ],
      "text/plain": [
       "  label                                             review  Vader_Results  \\\n",
       "0   pos  Stuning even for the non-gamer: This sound tra...         0.9454   \n",
       "1   pos  The best soundtrack ever to anything.: I'm rea...         0.8957   \n",
       "2   pos  Amazing!: This soundtrack is my favorite music...         0.9858   \n",
       "3   pos  Excellent Soundtrack: I truly like this soundt...         0.9814   \n",
       "4   pos  Remember, Pull Your Jaw Off The Floor After He...         0.9781   \n",
       "\n",
       "  Results  \n",
       "0     pos  \n",
       "1     pos  \n",
       "2     pos  \n",
       "3     pos  \n",
       "4     pos  "
      ]
     },
     "execution_count": 10,
     "metadata": {},
     "output_type": "execute_result"
    }
   ],
   "source": [
    "data['Vader_Results'] = data.review.apply(lambda x: sid.polarity_scores(x).get('compound'))\n",
    "data['Results'] = data.Vader_Results.apply(lambda x: 'pos' if x > 0 else 'neg')\n",
    "data.head()"
   ]
  },
  {
   "cell_type": "code",
   "execution_count": 11,
   "id": "073dee12-e01f-4105-aa92-d288dd792650",
   "metadata": {},
   "outputs": [
    {
     "name": "stdout",
     "output_type": "stream",
     "text": [
      "The Accuracy of the Vader method for this dataset is: 0.71%\n",
      "\n",
      "              precision    recall  f1-score   support\n",
      "\n",
      "         neg       0.85      0.53      0.65      5097\n",
      "         pos       0.65      0.90      0.75      4903\n",
      "\n",
      "    accuracy                           0.71     10000\n",
      "   macro avg       0.75      0.72      0.70     10000\n",
      "weighted avg       0.75      0.71      0.70     10000\n",
      "\n"
     ]
    }
   ],
   "source": [
    "from sklearn.metrics import classification_report, confusion_matrix, accuracy_score\n",
    "import seaborn as sns\n",
    "\n",
    "\n",
    "acc = accuracy_score(data.label, data.Results)\n",
    "print(f'The Accuracy of the Vader method for this dataset is: {acc:.2f}%\\n')\n",
    "print(classification_report(data.label, data.Results)) # Plus de mal a identifier les négatifs`"
   ]
  },
  {
   "cell_type": "code",
   "execution_count": 12,
   "id": "6a1bd1a9-cb76-4777-8e54-c8c83f3d6b50",
   "metadata": {},
   "outputs": [
    {
     "data": {
      "image/png": "[encoded data removed]",
      "text/plain": [
       "<Figure size 640x480 with 1 Axes>"
      ]
     },
     "metadata": {},
     "output_type": "display_data"
    }
   ],
   "source": [
    "conf = confusion_matrix(data.label, data.Results)\n",
    "sns.heatmap(conf, annot = True, fmt = 'g', cbar = False, cmap = 'Blues_r'); # a lot of negatives predicted as positives"
   ]
  },
  {
   "cell_type": "markdown",
   "id": "b87f95cb-1925-4816-b5b5-88bba3dd59f4",
   "metadata": {
    "tags": []
   },
   "source": [
    "# 2. Roberta Model - API"
   ]
  },
  {
   "cell_type": "code",
   "execution_count": 3,
   "id": "18648517-f354-4231-b273-d735eb0dd0aa",
   "metadata": {},
   "outputs": [],
   "source": [
    "from transformers import AutoTokenizer\n",
    "from transformers import AutoModelForSequenceClassification\n",
    "from scipy.special import softmax"
   ]
  },
  {
   "cell_type": "code",
   "execution_count": 4,
   "id": "10f6f809-e15b-42c3-b05b-6cb6052732ef",
   "metadata": {},
   "outputs": [],
   "source": [
    "MODEL = f\"cardiffnlp/twitter-roberta-base-sentiment\"\n",
    "tokenizer = AutoTokenizer.from_pretrained(MODEL)"
   ]
  },
  {
   "cell_type": "code",
   "execution_count": 5,
   "id": "d0dbc292-8365-4a17-b769-e6d1d6583638",
   "metadata": {},
   "outputs": [],
   "source": [
    "model = AutoModelForSequenceClassification.from_pretrained(MODEL)"
   ]
  },
  {
   "cell_type": "code",
   "execution_count": 6,
   "id": "02c48688-7f94-45c4-92f8-b60f575207b7",
   "metadata": {},
   "outputs": [],
   "source": [
    "def tokenize(x):\n",
    "    '''\n",
    "    Function to modelling data (by softmax) & return sentiment\n",
    "    '''\n",
    "    encode = tokenizer(x, return_tensors = 'pt')\n",
    "    output = model(**encode)\n",
    "    score = output.logits[0].detach().numpy()\n",
    "    softmax_result = softmax(score)\n",
    "    if softmax_result[0] > softmax_result[2]:\n",
    "         return 'neg' \n",
    "    return 'pos'                                                                                                                                      "
   ]
  },
  {
   "cell_type": "code",
   "execution_count": 9,
   "id": "28ce1f9e-a5a6-4186-b28a-78d9926b5759",
   "metadata": {},
   "outputs": [],
   "source": [
    "ROW = 500\n",
    "\n",
    "lst_response = []\n",
    "for i in range(0, ROW):\n",
    "    response = tokenize(data.review[i])\n",
    "    lst_response.append(response)"
   ]
  },
  {
   "cell_type": "code",
   "execution_count": 10,
   "id": "8c316e94-26a3-4653-ac93-cc7c6855965d",
   "metadata": {},
   "outputs": [
    {
     "data": {
      "text/html": [
       "<div>\n",
       "<style scoped>\n",
       "    .dataframe tbody tr th:only-of-type {\n",
       "        vertical-align: middle;\n",
       "    }\n",
       "\n",
       "    .dataframe tbody tr th {\n",
       "        vertical-align: top;\n",
       "    }\n",
       "\n",
       "    .dataframe thead th {\n",
       "        text-align: right;\n",
       "    }\n",
       "</style>\n",
       "<table border=\"1\" class=\"dataframe\">\n",
       "  <thead>\n",
       "    <tr style=\"text-align: right;\">\n",
       "      <th></th>\n",
       "      <th>label</th>\n",
       "      <th>review</th>\n",
       "      <th>Roberta_Results</th>\n",
       "    </tr>\n",
       "  </thead>\n",
       "  <tbody>\n",
       "    <tr>\n",
       "      <th>0</th>\n",
       "      <td>pos</td>\n",
       "      <td>Stuning even for the non-gamer: This sound tra...</td>\n",
       "      <td>pos</td>\n",
       "    </tr>\n",
       "    <tr>\n",
       "      <th>1</th>\n",
       "      <td>pos</td>\n",
       "      <td>The best soundtrack ever to anything.: I'm rea...</td>\n",
       "      <td>pos</td>\n",
       "    </tr>\n",
       "    <tr>\n",
       "      <th>2</th>\n",
       "      <td>pos</td>\n",
       "      <td>Amazing!: This soundtrack is my favorite music...</td>\n",
       "      <td>pos</td>\n",
       "    </tr>\n",
       "    <tr>\n",
       "      <th>3</th>\n",
       "      <td>pos</td>\n",
       "      <td>Excellent Soundtrack: I truly like this soundt...</td>\n",
       "      <td>pos</td>\n",
       "    </tr>\n",
       "    <tr>\n",
       "      <th>4</th>\n",
       "      <td>pos</td>\n",
       "      <td>Remember, Pull Your Jaw Off The Floor After He...</td>\n",
       "      <td>pos</td>\n",
       "    </tr>\n",
       "  </tbody>\n",
       "</table>\n",
       "</div>"
      ],
      "text/plain": [
       "  label                                             review Roberta_Results\n",
       "0   pos  Stuning even for the non-gamer: This sound tra...             pos\n",
       "1   pos  The best soundtrack ever to anything.: I'm rea...             pos\n",
       "2   pos  Amazing!: This soundtrack is my favorite music...             pos\n",
       "3   pos  Excellent Soundtrack: I truly like this soundt...             pos\n",
       "4   pos  Remember, Pull Your Jaw Off The Floor After He...             pos"
      ]
     },
     "execution_count": 10,
     "metadata": {},
     "output_type": "execute_result"
    }
   ],
   "source": [
    "data2 = data[:ROW]\n",
    "\n",
    "Roberta_Results = pd.DataFrame(lst_response, columns = ['Roberta_Results'])\n",
    "data2 = pd.concat((data2, Roberta_Results), axis = 1)\n",
    "data2.head()"
   ]
  },
  {
   "cell_type": "code",
   "execution_count": 12,
   "id": "9e448b60-d6dc-45c3-85a3-50ef77d611f1",
   "metadata": {},
   "outputs": [
    {
     "name": "stdout",
     "output_type": "stream",
     "text": [
      "The Accuracy of the Vader method for this dataset is: 0.90%\n",
      "\n",
      "              precision    recall  f1-score   support\n",
      "\n",
      "         neg       0.91      0.88      0.89       247\n",
      "         pos       0.89      0.92      0.90       253\n",
      "\n",
      "    accuracy                           0.90       500\n",
      "   macro avg       0.90      0.90      0.90       500\n",
      "weighted avg       0.90      0.90      0.90       500\n",
      "\n"
     ]
    }
   ],
   "source": [
    "from sklearn.metrics import accuracy_score, classification_report, confusion_matrix\n",
    "import seaborn as sns\n",
    "\n",
    "acc2 = accuracy_score(data2.label, data2.Roberta_Results)\n",
    "print(f'The Accuracy of the Vader method for this dataset is: {acc2:.2f}%\\n')\n",
    "print(classification_report(data2.label, data2.Roberta_Results))"
   ]
  },
  {
   "cell_type": "code",
   "execution_count": 13,
   "id": "cecd6fcd-ba6d-415a-833f-f7d590d08c5c",
   "metadata": {},
   "outputs": [
    {
     "data": {
      "image/png": "[encoded data removed]",
      "text/plain": [
       "<Figure size 640x480 with 1 Axes>"
      ]
     },
     "metadata": {},
     "output_type": "display_data"
    }
   ],
   "source": [
    "conf2 = confusion_matrix(data2.label, data2.Roberta_Results)\n",
    "sns.heatmap(conf2, annot = True, fmt = 'g', cbar = False, cmap = 'Blues_r'); # beaucoup de négatif prédits comme positif"
   ]
  },
  {
   "cell_type": "code",
   "execution_count": 14,
   "id": "03a75603-bbb4-4dca-98ca-db1fcd7e1a40",
   "metadata": {},
   "outputs": [],
   "source": [
    "#data['Roberta_Results'] = data.review.apply(lambda x : tokenize(x))"
   ]
  },
  {
   "cell_type": "markdown",
   "id": "b13307b3-1941-4f77-88dc-23b0672d28ca",
   "metadata": {
    "tags": []
   },
   "source": [
    "# 3. Bert Model - API\n",
    "\n",
    "**Il s'agit d'un modèle affiné pour l'analyse des sentiments sur les avis sur les produits en six langues : anglais, néerlandais, allemand, français, espagnol et italien. Il prédit le sentiment de la critique sous forme d'un nombre d'étoiles (entre 1 et 5).**"
   ]
  },
  {
   "cell_type": "code",
   "execution_count": 15,
   "id": "2616eb4e-1750-467e-81c5-f3f9b2dc903e",
   "metadata": {},
   "outputs": [],
   "source": [
    "from transformers import AutoTokenizer, AutoModelForSequenceClassification\n",
    "import torch\n",
    "import requests\n",
    "from bs4 import BeautifulSoup\n",
    "import re\n",
    "\n",
    "\n",
    "tokenizer = AutoTokenizer.from_pretrained('nlptown/bert-base-multilingual-uncased-sentiment')\n",
    "model = AutoModelForSequenceClassification.from_pretrained('nlptown/bert-base-multilingual-uncased-sentiment')"
   ]
  },
  {
   "cell_type": "code",
   "execution_count": 16,
   "id": "7bd1f989-8f7f-4105-bda2-9bb21be4e644",
   "metadata": {},
   "outputs": [
    {
     "data": {
      "text/plain": [
       "SequenceClassifierOutput(loss=None, logits=tensor([[-2.4654, -2.5802, -0.9555,  1.4687,  3.6366]],\n",
       "       grad_fn=<AddmmBackward0>), hidden_states=None, attentions=None)"
      ]
     },
     "execution_count": 16,
     "metadata": {},
     "output_type": "execute_result"
    }
   ],
   "source": [
    "token = tokenizer('I love him!', return_tensors = 'pt')\n",
    "output = model(**token)\n",
    "output   # retourne les propabilité que la critique appartienne a chaque classe (plus élevé ici c'est 5 étoiles)"
   ]
  },
  {
   "cell_type": "code",
   "execution_count": 17,
   "id": "065c2b61-acda-45e2-8a03-54da1c234e80",
   "metadata": {},
   "outputs": [
    {
     "name": "stdout",
     "output_type": "stream",
     "text": [
      "Cette phrase prédit une critique a 5 étoiles\n"
     ]
    }
   ],
   "source": [
    "stars_num = int(torch.argmax(output.logits)) + 1   #  add one because tensor start with 0\n",
    "print(f'Cette phrase prédit une critique a {stars_num} étoiles')"
   ]
  },
  {
   "cell_type": "markdown",
   "id": "649015ca-6652-4a01-b794-835a52ef18da",
   "metadata": {},
   "source": [
    "## Example with Beautiful Soup"
   ]
  },
  {
   "cell_type": "code",
   "execution_count": null,
   "id": "b70f90cb-497f-465a-b0b0-f481ee6ca991",
   "metadata": {},
   "outputs": [],
   "source": [
    "r = requests.get('https://www.yelp.com/biz/dumpling-baby-china-bistro-san-francisco-4?osq=Delivery')\n",
    "soup = BeautifulSoup(r.text, 'html.parser')\n",
    "regex = re.compile('.*comment.*')"
   ]
  },
  {
   "cell_type": "code",
   "execution_count": null,
   "id": "a3372c89-be99-4c19-9693-d22d3a254fa8",
   "metadata": {},
   "outputs": [],
   "source": [
    "results = soup.find_all('p', {'class': regex})\n",
    "reviews = [x.text for x in results]"
   ]
  },
  {
   "cell_type": "code",
   "execution_count": null,
   "id": "10800ee2-83a7-416a-84f8-0468819ef209",
   "metadata": {},
   "outputs": [],
   "source": [
    "def reviews_function(x):\n",
    "    token = tokenizer(x, return_tensors = 'pt')\n",
    "    output = model(**token)\n",
    "    stars_num = int(torch.argmax(output.logits)) + 1 \n",
    "    return stars_num"
   ]
  },
  {
   "cell_type": "code",
   "execution_count": null,
   "id": "9338400d-e77d-452f-9882-82d7e0611d80",
   "metadata": {},
   "outputs": [],
   "source": [
    "data_comment = pd.DataFrame(reviews, columns = ['Comment'])\n",
    "data_comment['Stars'] = data_comment.Comment.apply(lambda x: reviews_function(x))\n",
    "data_comment.head()"
   ]
  }
 ],
 "metadata": {
  "kernelspec": {
   "display_name": "Python 3 (ipykernel)",
   "language": "python",
   "name": "python3"
  },
  "language_info": {
   "codemirror_mode": {
    "name": "ipython",
    "version": 3
   },
   "file_extension": ".py",
   "mimetype": "text/x-python",
   "name": "python",
   "nbconvert_exporter": "python",
   "pygments_lexer": "ipython3",
   "version": "3.10.9"
  }
 },
 "nbformat": 4,
 "nbformat_minor": 5
}
