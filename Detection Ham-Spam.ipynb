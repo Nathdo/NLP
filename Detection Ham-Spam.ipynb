{
 "cells": [
  {
   "cell_type": "markdown",
   "id": "22eaee77-b6ce-47a8-9727-49bf9ee1d53f",
   "metadata": {},
   "source": [
    "# NLP \n",
    "\n",
    "**In this project, I am applying NLP techniques to analyze the text of messages. The 'label' column classifies each message as either spam or ham. The 'message' column contains the text content of each message. The 'length' column indicates the total number of words in each message, and the 'punct' column quantifies the punctuation marks used.**\n",
    "\n",
    "**My goal is to develop a model that can accurately identify spam messages based on these features. By examining the word count and punctuation patterns, I aim to train the model to recognize the typical characteristics that differentiate spam from ham messages. This approach is crucial for improving email or messaging filtering systems by effectively filtering out unwanted spam messages.**\n",
    "\n",
    "**The project involves preprocessing the text data, extracting key features (like word count and punctuation), and training a machine learning model on these features to classify the messages. I plan to evaluate the effectiveness of my model using various metrics to ensure it achieves high accuracy and minimizes false positives in spam detection.**"
   ]
  },
  {
   "cell_type": "code",
   "execution_count": 1,
   "id": "919e7f98-7aed-4189-b4e9-cfb84f5089f5",
   "metadata": {},
   "outputs": [
    {
     "data": {
      "text/html": [
       "<div>\n",
       "<style scoped>\n",
       "    .dataframe tbody tr th:only-of-type {\n",
       "        vertical-align: middle;\n",
       "    }\n",
       "\n",
       "    .dataframe tbody tr th {\n",
       "        vertical-align: top;\n",
       "    }\n",
       "\n",
       "    .dataframe thead th {\n",
       "        text-align: right;\n",
       "    }\n",
       "</style>\n",
       "<table border=\"1\" class=\"dataframe\">\n",
       "  <thead>\n",
       "    <tr style=\"text-align: right;\">\n",
       "      <th></th>\n",
       "      <th>label</th>\n",
       "      <th>message</th>\n",
       "      <th>length</th>\n",
       "      <th>punct</th>\n",
       "    </tr>\n",
       "  </thead>\n",
       "  <tbody>\n",
       "    <tr>\n",
       "      <th>0</th>\n",
       "      <td>ham</td>\n",
       "      <td>Go until jurong point, crazy.. Available only ...</td>\n",
       "      <td>111</td>\n",
       "      <td>9</td>\n",
       "    </tr>\n",
       "    <tr>\n",
       "      <th>1</th>\n",
       "      <td>ham</td>\n",
       "      <td>Ok lar... Joking wif u oni...</td>\n",
       "      <td>29</td>\n",
       "      <td>6</td>\n",
       "    </tr>\n",
       "    <tr>\n",
       "      <th>2</th>\n",
       "      <td>spam</td>\n",
       "      <td>Free entry in 2 a wkly comp to win FA Cup fina...</td>\n",
       "      <td>155</td>\n",
       "      <td>6</td>\n",
       "    </tr>\n",
       "  </tbody>\n",
       "</table>\n",
       "</div>"
      ],
      "text/plain": [
       "  label                                            message  length  punct\n",
       "0   ham  Go until jurong point, crazy.. Available only ...     111      9\n",
       "1   ham                      Ok lar... Joking wif u oni...      29      6\n",
       "2  spam  Free entry in 2 a wkly comp to win FA Cup fina...     155      6"
      ]
     },
     "execution_count": 1,
     "metadata": {},
     "output_type": "execute_result"
    }
   ],
   "source": [
    "import pandas as pd\n",
    "import numpy as np\n",
    "import matplotlib.pyplot as plt\n",
    "import seaborn as sns\n",
    "import warnings\n",
    "warnings.filterwarnings('ignore')\n",
    "\n",
    "data = pd.read_csv('/Users/nathan/Desktop/UPDATED_NLP_COURSE/TextFiles/smsspamcollection.tsv', sep = '\\t')\n",
    "data.head(3)"
   ]
  },
  {
   "cell_type": "code",
   "execution_count": 13,
   "id": "03c387e4-70dc-4f5b-b2f1-68d2ff35f09a",
   "metadata": {},
   "outputs": [
    {
     "name": "stdout",
     "output_type": "stream",
     "text": [
      "ham     0.865937\n",
      "spam    0.134063\n",
      "Name: label, dtype: float64\n",
      "\n",
      "Average Punctuations in spam: 5.71\n",
      "Average Punctuations in ham: 3.94\n",
      "\n",
      "Average lenght in spam: 138.67\n",
      "Average lenght in ham: 71.48\n"
     ]
    }
   ],
   "source": [
    "print(data.label.value_counts(normalize= True))\n",
    "print(f\"\\nAverage Punctuations in spam: {round(data[data.label == 'spam'].punct.mean(), 2)}\")\n",
    "print(f\"Average Punctuations in ham: {round(data[data.label == 'ham'].punct.mean(), 2)}\\n\")\n",
    "print(f\"Average lenght in spam: {round(data[data.label == 'spam'].length.mean(), 2)}\")\n",
    "print(f\"Average lenght in ham: {round(data[data.label == 'ham'].length.mean(), 2)}\")"
   ]
  },
  {
   "cell_type": "code",
   "execution_count": 35,
   "id": "9df1158d-d75d-4e50-8f87-0a7dd600c5a3",
   "metadata": {},
   "outputs": [
    {
     "name": "stdout",
     "output_type": "stream",
     "text": [
      "No missing values.\n"
     ]
    }
   ],
   "source": [
    "# dropping missing values\n",
    "if data.message.isna().sum() > 0:\n",
    "    data.dropna(inplace = True)\n",
    "else:\n",
    "    print('No missing values.')"
   ]
  },
  {
   "cell_type": "code",
   "execution_count": 36,
   "id": "bcf020d6-a330-4a06-b613-13053bf2807e",
   "metadata": {},
   "outputs": [
    {
     "name": "stdout",
     "output_type": "stream",
     "text": [
      "No spaces.\n"
     ]
    }
   ],
   "source": [
    "# check for blanks values\n",
    "blank = []\n",
    "\n",
    "for i, one, sec, third, four in data.itertuples():\n",
    "    if sec.isspace():\n",
    "        blank.append(i)\n",
    "        \n",
    "if any(blank):\n",
    "    print(f'There are {len(blank)} spaces as values.')\n",
    "else:\n",
    "    print(f'No spaces.')"
   ]
  },
  {
   "cell_type": "code",
   "execution_count": 30,
   "id": "e32bba65-0c8c-4042-ab62-70735f7f082f",
   "metadata": {},
   "outputs": [],
   "source": [
    "# split data\n",
    "from sklearn.model_selection import train_test_split\n",
    "\n",
    "X = data.message\n",
    "y = data.label\n",
    "\n",
    "X_train, X_test, y_train, y_test = train_test_split(X, y, test_size = 0.3, random_state = 42)"
   ]
  },
  {
   "cell_type": "markdown",
   "id": "f748c732-adcb-44fa-b282-e2cd462e5654",
   "metadata": {},
   "source": [
    "## Encode Text: `TF-IDF` (Term Frequency-Inverse Document Frequency)\n",
    "\n",
    "TF-IDF is a more advanced technique that not only counts the frequency of words but also takes into account the importance of the word in the entire corpus of documents.\n",
    "\n",
    "TF (Term Frequency): Frequency of a word in a document.\n",
    "IDF (Inverse Document Frequency): Decreases the importance of words that appear frequently throughout the corpus, and increases that of rare words."
   ]
  },
  {
   "cell_type": "code",
   "execution_count": 33,
   "id": "e4b098fe-c694-4184-947d-74836c8edcfb",
   "metadata": {},
   "outputs": [
    {
     "data": {
      "text/html": [
       "<style>#sk-container-id-1 {color: black;background-color: white;}#sk-container-id-1 pre{padding: 0;}#sk-container-id-1 div.sk-toggleable {background-color: white;}#sk-container-id-1 label.sk-toggleable__label {cursor: pointer;display: block;width: 100%;margin-bottom: 0;padding: 0.3em;box-sizing: border-box;text-align: center;}#sk-container-id-1 label.sk-toggleable__label-arrow:before {content: \"▸\";float: left;margin-right: 0.25em;color: #696969;}#sk-container-id-1 label.sk-toggleable__label-arrow:hover:before {color: black;}#sk-container-id-1 div.sk-estimator:hover label.sk-toggleable__label-arrow:before {color: black;}#sk-container-id-1 div.sk-toggleable__content {max-height: 0;max-width: 0;overflow: hidden;text-align: left;background-color: #f0f8ff;}#sk-container-id-1 div.sk-toggleable__content pre {margin: 0.2em;color: black;border-radius: 0.25em;background-color: #f0f8ff;}#sk-container-id-1 input.sk-toggleable__control:checked~div.sk-toggleable__content {max-height: 200px;max-width: 100%;overflow: auto;}#sk-container-id-1 input.sk-toggleable__control:checked~label.sk-toggleable__label-arrow:before {content: \"▾\";}#sk-container-id-1 div.sk-estimator input.sk-toggleable__control:checked~label.sk-toggleable__label {background-color: #d4ebff;}#sk-container-id-1 div.sk-label input.sk-toggleable__control:checked~label.sk-toggleable__label {background-color: #d4ebff;}#sk-container-id-1 input.sk-hidden--visually {border: 0;clip: rect(1px 1px 1px 1px);clip: rect(1px, 1px, 1px, 1px);height: 1px;margin: -1px;overflow: hidden;padding: 0;position: absolute;width: 1px;}#sk-container-id-1 div.sk-estimator {font-family: monospace;background-color: #f0f8ff;border: 1px dotted black;border-radius: 0.25em;box-sizing: border-box;margin-bottom: 0.5em;}#sk-container-id-1 div.sk-estimator:hover {background-color: #d4ebff;}#sk-container-id-1 div.sk-parallel-item::after {content: \"\";width: 100%;border-bottom: 1px solid gray;flex-grow: 1;}#sk-container-id-1 div.sk-label:hover label.sk-toggleable__label {background-color: #d4ebff;}#sk-container-id-1 div.sk-serial::before {content: \"\";position: absolute;border-left: 1px solid gray;box-sizing: border-box;top: 0;bottom: 0;left: 50%;z-index: 0;}#sk-container-id-1 div.sk-serial {display: flex;flex-direction: column;align-items: center;background-color: white;padding-right: 0.2em;padding-left: 0.2em;position: relative;}#sk-container-id-1 div.sk-item {position: relative;z-index: 1;}#sk-container-id-1 div.sk-parallel {display: flex;align-items: stretch;justify-content: center;background-color: white;position: relative;}#sk-container-id-1 div.sk-item::before, #sk-container-id-1 div.sk-parallel-item::before {content: \"\";position: absolute;border-left: 1px solid gray;box-sizing: border-box;top: 0;bottom: 0;left: 50%;z-index: -1;}#sk-container-id-1 div.sk-parallel-item {display: flex;flex-direction: column;z-index: 1;position: relative;background-color: white;}#sk-container-id-1 div.sk-parallel-item:first-child::after {align-self: flex-end;width: 50%;}#sk-container-id-1 div.sk-parallel-item:last-child::after {align-self: flex-start;width: 50%;}#sk-container-id-1 div.sk-parallel-item:only-child::after {width: 0;}#sk-container-id-1 div.sk-dashed-wrapped {border: 1px dashed gray;margin: 0 0.4em 0.5em 0.4em;box-sizing: border-box;padding-bottom: 0.4em;background-color: white;}#sk-container-id-1 div.sk-label label {font-family: monospace;font-weight: bold;display: inline-block;line-height: 1.2em;}#sk-container-id-1 div.sk-label-container {text-align: center;}#sk-container-id-1 div.sk-container {/* jupyter's `normalize.less` sets `[hidden] { display: none; }` but bootstrap.min.css set `[hidden] { display: none !important; }` so we also need the `!important` here to be able to override the default hidden behavior on the sphinx rendered scikit-learn.org. See: https://github.com/scikit-learn/scikit-learn/issues/21755 */display: inline-block !important;position: relative;}#sk-container-id-1 div.sk-text-repr-fallback {display: none;}</style><div id=\"sk-container-id-1\" class=\"sk-top-container\"><div class=\"sk-text-repr-fallback\"><pre>Pipeline(steps=[(&#x27;vec&#x27;, TfidfVectorizer()), (&#x27;model&#x27;, LinearSVC())])</pre><b>In a Jupyter environment, please rerun this cell to show the HTML representation or trust the notebook. <br />On GitHub, the HTML representation is unable to render, please try loading this page with nbviewer.org.</b></div><div class=\"sk-container\" hidden><div class=\"sk-item sk-dashed-wrapped\"><div class=\"sk-label-container\"><div class=\"sk-label sk-toggleable\"><input class=\"sk-toggleable__control sk-hidden--visually\" id=\"sk-estimator-id-1\" type=\"checkbox\" ><label for=\"sk-estimator-id-1\" class=\"sk-toggleable__label sk-toggleable__label-arrow\">Pipeline</label><div class=\"sk-toggleable__content\"><pre>Pipeline(steps=[(&#x27;vec&#x27;, TfidfVectorizer()), (&#x27;model&#x27;, LinearSVC())])</pre></div></div></div><div class=\"sk-serial\"><div class=\"sk-item\"><div class=\"sk-estimator sk-toggleable\"><input class=\"sk-toggleable__control sk-hidden--visually\" id=\"sk-estimator-id-2\" type=\"checkbox\" ><label for=\"sk-estimator-id-2\" class=\"sk-toggleable__label sk-toggleable__label-arrow\">TfidfVectorizer</label><div class=\"sk-toggleable__content\"><pre>TfidfVectorizer()</pre></div></div></div><div class=\"sk-item\"><div class=\"sk-estimator sk-toggleable\"><input class=\"sk-toggleable__control sk-hidden--visually\" id=\"sk-estimator-id-3\" type=\"checkbox\" ><label for=\"sk-estimator-id-3\" class=\"sk-toggleable__label sk-toggleable__label-arrow\">LinearSVC</label><div class=\"sk-toggleable__content\"><pre>LinearSVC()</pre></div></div></div></div></div></div></div>"
      ],
      "text/plain": [
       "Pipeline(steps=[('vec', TfidfVectorizer()), ('model', LinearSVC())])"
      ]
     },
     "execution_count": 33,
     "metadata": {},
     "output_type": "execute_result"
    }
   ],
   "source": [
    "from sklearn.pipeline import Pipeline\n",
    "from sklearn.svm import LinearSVC\n",
    "from sklearn.feature_extraction.text import TfidfVectorizer\n",
    "\n",
    "clf = Pipeline([('vec', TfidfVectorizer()), ('model', LinearSVC())])\n",
    "clf.fit(X_train, y_train)"
   ]
  },
  {
   "cell_type": "code",
   "execution_count": 38,
   "id": "c1a9e4ae-e570-4815-9b5c-4d1767b37048",
   "metadata": {},
   "outputs": [],
   "source": [
    "y_predict = clf.predict(X_test)"
   ]
  },
  {
   "cell_type": "markdown",
   "id": "9c1e4e67-5fdd-438d-9c67-a2bbcb7bca84",
   "metadata": {},
   "source": [
    "## Manual Evaluation & Make Prediction"
   ]
  },
  {
   "cell_type": "code",
   "execution_count": 57,
   "id": "bd319319-25db-4b46-a8ca-50a11fad0925",
   "metadata": {},
   "outputs": [
    {
     "data": {
      "text/html": [
       "<div>\n",
       "<style scoped>\n",
       "    .dataframe tbody tr th:only-of-type {\n",
       "        vertical-align: middle;\n",
       "    }\n",
       "\n",
       "    .dataframe tbody tr th {\n",
       "        vertical-align: top;\n",
       "    }\n",
       "\n",
       "    .dataframe thead th {\n",
       "        text-align: right;\n",
       "    }\n",
       "</style>\n",
       "<table border=\"1\" class=\"dataframe\">\n",
       "  <thead>\n",
       "    <tr style=\"text-align: right;\">\n",
       "      <th></th>\n",
       "      <th>message</th>\n",
       "      <th>TrueValues</th>\n",
       "      <th>Predict</th>\n",
       "    </tr>\n",
       "  </thead>\n",
       "  <tbody>\n",
       "    <tr>\n",
       "      <th>0</th>\n",
       "      <td>Squeeeeeze!! This is christmas hug.. If u lik ...</td>\n",
       "      <td>ham</td>\n",
       "      <td>ham</td>\n",
       "    </tr>\n",
       "    <tr>\n",
       "      <th>1</th>\n",
       "      <td>And also I've sorta blown him off a couple tim...</td>\n",
       "      <td>ham</td>\n",
       "      <td>ham</td>\n",
       "    </tr>\n",
       "    <tr>\n",
       "      <th>2</th>\n",
       "      <td>Mmm thats better now i got a roast down me! i...</td>\n",
       "      <td>ham</td>\n",
       "      <td>ham</td>\n",
       "    </tr>\n",
       "    <tr>\n",
       "      <th>3</th>\n",
       "      <td>Mm have some kanji dont eat anything heavy ok</td>\n",
       "      <td>ham</td>\n",
       "      <td>ham</td>\n",
       "    </tr>\n",
       "    <tr>\n",
       "      <th>4</th>\n",
       "      <td>So there's a ring that comes with the guys cos...</td>\n",
       "      <td>ham</td>\n",
       "      <td>ham</td>\n",
       "    </tr>\n",
       "  </tbody>\n",
       "</table>\n",
       "</div>"
      ],
      "text/plain": [
       "                                             message TrueValues Predict\n",
       "0  Squeeeeeze!! This is christmas hug.. If u lik ...        ham     ham\n",
       "1  And also I've sorta blown him off a couple tim...        ham     ham\n",
       "2  Mmm thats better now i got a roast down me! i...        ham     ham\n",
       "3      Mm have some kanji dont eat anything heavy ok        ham     ham\n",
       "4  So there's a ring that comes with the guys cos...        ham     ham"
      ]
     },
     "execution_count": 57,
     "metadata": {},
     "output_type": "execute_result"
    }
   ],
   "source": [
    "data_true = pd.DataFrame(pd.concat([X_test, y_test], axis = 1).reset_index(drop = True))\n",
    "data_true['Predict'] = y_predict\n",
    "data_true = data_true.rename(columns = {'label': 'TrueValues'})\n",
    "data_true.head()"
   ]
  },
  {
   "cell_type": "code",
   "execution_count": 78,
   "id": "9f587bb1-6ce4-4d1e-b78a-eb822ff7e47f",
   "metadata": {},
   "outputs": [
    {
     "name": "stdout",
     "output_type": "stream",
     "text": [
      "Total of wrongs answers: 0.01% - 13 wrongs\n"
     ]
    }
   ],
   "source": [
    "count = 0\n",
    "for i, one, sec, third in data_true.itertuples():    \n",
    "    if sec != third:\n",
    "        count += 1\n",
    "        \n",
    "print(f'Total of wrongs answers:{count / len(data_true): .2f}% - {count} wrongs')"
   ]
  },
  {
   "cell_type": "markdown",
   "id": "77cea417-0f96-47f2-beee-73a8432cdae9",
   "metadata": {},
   "source": [
    "## Evaluation using Sklearn"
   ]
  },
  {
   "cell_type": "code",
   "execution_count": 75,
   "id": "46e9d1e2-b3c4-4dc7-9199-3125e4601111",
   "metadata": {},
   "outputs": [
    {
     "name": "stdout",
     "output_type": "stream",
     "text": [
      "The accuracy is: 0.99\n"
     ]
    },
    {
     "data": {
      "image/png": "[encoded data removed]",
      "text/plain": [
       "<Figure size 800x400 with 1 Axes>"
      ]
     },
     "metadata": {},
     "output_type": "display_data"
    }
   ],
   "source": [
    "from sklearn.metrics import accuracy_score, confusion_matrix\n",
    "\n",
    "print(f'The accuracy is: {round(accuracy_score(y_pred = y_predict, y_true = y_test), 2)}')\n",
    "\n",
    "plt.figure(figsize=(8,4))\n",
    "sns.heatmap(confusion_matrix(y_true = y_test, y_pred = y_predict), annot = True, cbar = False, fmt = 'g')\n",
    "plt.show()"
   ]
  },
  {
   "cell_type": "code",
   "execution_count": 87,
   "id": "a1fd82a8-280f-4318-8aaf-568e74644d3a",
   "metadata": {},
   "outputs": [
    {
     "data": {
      "text/plain": [
       "array(['ham'], dtype=object)"
      ]
     },
     "execution_count": 87,
     "metadata": {},
     "output_type": "execute_result"
    }
   ],
   "source": [
    "clf.predict(['Mm 098t6789 some kanji d!*@&*^#'])"
   ]
  }
 ],
 "metadata": {
  "kernelspec": {
   "display_name": "Python 3 (ipykernel)",
   "language": "python",
   "name": "python3"
  },
  "language_info": {
   "codemirror_mode": {
    "name": "ipython",
    "version": 3
   },
   "file_extension": ".py",
   "mimetype": "text/x-python",
   "name": "python",
   "nbconvert_exporter": "python",
   "pygments_lexer": "ipython3",
   "version": "3.10.9"
  }
 },
 "nbformat": 4,
 "nbformat_minor": 5
}
