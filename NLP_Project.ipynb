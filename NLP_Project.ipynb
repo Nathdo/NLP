{
 "cells": [
  {
   "cell_type": "markdown",
   "id": "aed8726a-cd42-4c63-97f1-7c179cb03af3",
   "metadata": {},
   "source": [
    "# NLP \n",
    "\n",
    "**In this project, I am applying NLP techniques to analyze the text of messages. The 'label' column classifies each message as either spam or ham. The 'message' column contains the text content of each message. The 'length' column indicates the total number of words in each message, and the 'punct' column quantifies the punctuation marks used.**\n",
    "\n",
    "**My goal is to develop a model that can accurately identify spam messages based on these features. By examining the word count and punctuation patterns, I aim to train the model to recognize the typical characteristics that differentiate spam from ham messages. This approach is crucial for improving email or messaging filtering systems by effectively filtering out unwanted spam messages.**\n",
    "\n",
    "**The project involves preprocessing the text data, extracting key features (like word count and punctuation), and training a machine learning model on these features to classify the messages. I plan to evaluate the effectiveness of my model using various metrics to ensure it achieves high accuracy and minimizes false positives in spam detection.**"
   ]
  },
  {
   "attachments": {
    "4233ddae-66dd-43a0-917b-2315a628907c.jpg": {
     "image/jpeg": "[encoded data removed]"
    }
   },
   "cell_type": "markdown",
   "id": "bdbdafe9-f06c-43db-9eef-b410daf10167",
   "metadata": {},
   "source": [
    "<div style=\"text-align: center;\">\n",
    "    <img src=\"attachment:4233ddae-66dd-43a0-917b-2315a628907c.jpg\" width=\"600\" height=\"500\">\n",
    "</div>"
   ]
  },
  {
   "cell_type": "code",
   "execution_count": 1,
   "id": "0598c282-3ce0-4473-8074-cd6b55c6f09d",
   "metadata": {},
   "outputs": [
    {
     "data": {
      "text/html": [
       "<div>\n",
       "<style scoped>\n",
       "    .dataframe tbody tr th:only-of-type {\n",
       "        vertical-align: middle;\n",
       "    }\n",
       "\n",
       "    .dataframe tbody tr th {\n",
       "        vertical-align: top;\n",
       "    }\n",
       "\n",
       "    .dataframe thead th {\n",
       "        text-align: right;\n",
       "    }\n",
       "</style>\n",
       "<table border=\"1\" class=\"dataframe\">\n",
       "  <thead>\n",
       "    <tr style=\"text-align: right;\">\n",
       "      <th></th>\n",
       "      <th>label</th>\n",
       "      <th>message</th>\n",
       "      <th>length</th>\n",
       "      <th>punct</th>\n",
       "    </tr>\n",
       "  </thead>\n",
       "  <tbody>\n",
       "    <tr>\n",
       "      <th>0</th>\n",
       "      <td>ham</td>\n",
       "      <td>Go until jurong point, crazy.. Available only ...</td>\n",
       "      <td>111</td>\n",
       "      <td>9</td>\n",
       "    </tr>\n",
       "    <tr>\n",
       "      <th>1</th>\n",
       "      <td>ham</td>\n",
       "      <td>Ok lar... Joking wif u oni...</td>\n",
       "      <td>29</td>\n",
       "      <td>6</td>\n",
       "    </tr>\n",
       "    <tr>\n",
       "      <th>2</th>\n",
       "      <td>spam</td>\n",
       "      <td>Free entry in 2 a wkly comp to win FA Cup fina...</td>\n",
       "      <td>155</td>\n",
       "      <td>6</td>\n",
       "    </tr>\n",
       "  </tbody>\n",
       "</table>\n",
       "</div>"
      ],
      "text/plain": [
       "  label                                            message  length  punct\n",
       "0   ham  Go until jurong point, crazy.. Available only ...     111      9\n",
       "1   ham                      Ok lar... Joking wif u oni...      29      6\n",
       "2  spam  Free entry in 2 a wkly comp to win FA Cup fina...     155      6"
      ]
     },
     "execution_count": 1,
     "metadata": {},
     "output_type": "execute_result"
    }
   ],
   "source": [
    "import pandas as pd\n",
    "import numpy as np\n",
    "import matplotlib.pyplot as plt\n",
    "import seaborn as sns\n",
    "import warnings\n",
    "warnings.filterwarnings('ignore')\n",
    "\n",
    "data = pd.read_csv('/Users/nathan/Desktop/UPDATED_NLP_COURSE/TextFiles/smsspamcollection.tsv', sep = '\\t')\n",
    "data.head(3)"
   ]
  },
  {
   "cell_type": "markdown",
   "id": "dc5576e1-e790-4b98-bf1e-79f2611390a3",
   "metadata": {},
   "source": [
    "### Data Analysis"
   ]
  },
  {
   "cell_type": "code",
   "execution_count": 2,
   "id": "6488d383-dc3a-4d2a-a3e6-a60139f79434",
   "metadata": {},
   "outputs": [
    {
     "name": "stdout",
     "output_type": "stream",
     "text": [
      "The shape of the dataset: (5572, 4).\n",
      "The unique values as labels are: ['ham' 'spam']\n",
      "The datatypes of the dataset:\n",
      "label      object\n",
      "message    object\n",
      "length      int64\n",
      "punct       int64\n",
      "dtype: object\n",
      "\n",
      "Any missing data?\n",
      "label      0\n",
      "message    0\n",
      "length     0\n",
      "punct      0\n",
      "dtype: int64\n",
      "\n",
      "Equality between Ham/Spam?\n",
      "ham     4825\n",
      "spam     747\n",
      "Name: label, dtype: int64\n"
     ]
    }
   ],
   "source": [
    "print(f'The shape of the dataset: {data.shape}.\\nThe unique values as labels are: {data.label.unique()}\\nThe datatypes of the dataset:\\n{data.dtypes}\\n')\n",
    "print(f'Any missing data?\\n{data.isna().sum()}\\n')\n",
    "print(f'Equality between Ham/Spam?\\n{data.label.value_counts()}')"
   ]
  },
  {
   "cell_type": "code",
   "execution_count": 3,
   "id": "ee763b2f-0beb-41ac-a366-e7b772db2aff",
   "metadata": {},
   "outputs": [
    {
     "name": "stdout",
     "output_type": "stream",
     "text": [
      "The Mean of Punctuation for:\n",
      "Ham messages: 3.94\n",
      "Span messages: 5.71\n",
      "We can see that \"Spam\" messages are meanly 1.77 more punctuations than Ham messages\n",
      "\n",
      "The ham messages are meanly shorter than spam messages.\n",
      "ham: 52.0\n",
      "spam: 149.0\n"
     ]
    }
   ],
   "source": [
    "# caracteritic of ham/spam\n",
    "ham = data[data.label == 'ham']\n",
    "spam = data[data.label == 'spam']\n",
    "\n",
    "\n",
    "#punctuation\n",
    "mean_ham_punct = round(ham.punct.mean(),2)\n",
    "mean_spam_punct = round(spam.punct.mean(),2)\n",
    "\n",
    "print(f'The Mean of Punctuation for:\\nHam messages: {mean_ham_punct}\\nSpan messages: {mean_spam_punct}')\n",
    "print(f'We can see that \"Spam\" messages are meanly {mean_spam_punct - mean_ham_punct} more punctuations than Ham messages\\n')\n",
    "\n",
    "ham_length = round(ham.length.median(),2)\n",
    "spam_length = round(spam.length.median(),2)\n",
    "\n",
    "print(f'The ham messages are meanly shorter than spam messages.\\nham: {ham_length}\\nspam: {spam_length}')"
   ]
  },
  {
   "cell_type": "markdown",
   "id": "5fc99cf5-a8f0-4058-b426-535f8fed427d",
   "metadata": {},
   "source": [
    "## Encode Categorical Features\n",
    "\n",
    "Here we can use `OneHotEncoder` but the better method is the `LabelEncoder`, because is not a mutliclass category and only 'ham' & 'spam'"
   ]
  },
  {
   "cell_type": "code",
   "execution_count": 4,
   "id": "ce4f978b-5604-4c1e-b043-9033824c6538",
   "metadata": {},
   "outputs": [
    {
     "data": {
      "text/plain": [
       "array([0, 0, 1, ..., 0, 0, 0])"
      ]
     },
     "execution_count": 4,
     "metadata": {},
     "output_type": "execute_result"
    }
   ],
   "source": [
    "from sklearn.preprocessing import LabelEncoder\n",
    "\n",
    "X = data.drop('label', axis=1)\n",
    "Y = data['label']\n",
    "\n",
    "encode = LabelEncoder()\n",
    "y_encoded = encode.fit_transform(Y)\n",
    "y_encoded"
   ]
  },
  {
   "cell_type": "markdown",
   "id": "db437c23-a6d7-4622-a4bb-f4ffcae8a819",
   "metadata": {},
   "source": [
    "## Encode Text: `TF-IDF` (Term Frequency-Inverse Document Frequency)\n",
    "\n",
    "TF-IDF is a more advanced technique that not only counts the frequency of words but also takes into account the importance of the word in the entire corpus of documents.\n",
    "\n",
    "TF (Term Frequency): Frequency of a word in a document.\n",
    "IDF (Inverse Document Frequency): Decreases the importance of words that appear frequently throughout the corpus, and increases that of rare words."
   ]
  },
  {
   "cell_type": "code",
   "execution_count": 5,
   "id": "48e5e1bf-0f09-4767-95fe-96ab4e0c31e0",
   "metadata": {},
   "outputs": [
    {
     "data": {
      "text/plain": [
       "<5572x8715 sparse matrix of type '<class 'numpy.float64'>'\n",
       "\twith 84841 stored elements in COOrdinate format>"
      ]
     },
     "execution_count": 5,
     "metadata": {},
     "output_type": "execute_result"
    }
   ],
   "source": [
    "from sklearn.feature_extraction.text import CountVectorizer, TfidfTransformer, TfidfVectorizer #utiliser les trois pour ameliorations \n",
    "from scipy.sparse import hstack\n",
    "\n",
    "# Transformation avec TfidfVectorizer\n",
    "vectorizer = TfidfVectorizer()\n",
    "x_transformed = vectorizer.fit_transform(X.message)\n",
    "\n",
    "# Combiner les colonnes deja numériques\n",
    "X_numerical = X[['length', 'punct']].values  \n",
    "X_transformed = hstack([x_transformed, X_numerical])\n",
    "X_transformed"
   ]
  },
  {
   "cell_type": "markdown",
   "id": "b7ae5651-09ac-4306-81ad-e822e9015298",
   "metadata": {},
   "source": [
    "## Train Model\n",
    "\n",
    "**The main hyperparameters of the `LogisticRegression` model:**\n",
    "\n",
    "**`penalty`:**\n",
    "\n",
    " * **l1:** When you have a large number of characteristics and you suspect that some of them are not important. l1 helps create a simpler (sparse) model by setting certain coefficients to zero.\n",
    " * **l2:** This is a good default choice. Use it if you don't have specific reasons to choose something else. It helps prevent overfitting without making the model too simple.\n",
    "* **elasticnet:** When you are uncertain between l1 and l2, or if you think that both types of regularization can be beneficial. It's a combination of both.\n",
    " * **none:** If you think your model does not need regularization. This might be the case if your dataset is very large or if you have already pre-selected your features.\n",
    "\n",
    "**`C`:**\n",
    "\n",
    " * **High value:** When you trust your dataset and don't want the model to be too simple. Useful if you think overfitting is not a major problem.\n",
    " * **Low value:** If you are concerned about overfitting or have a small dataset. This will make the model more regularized and therefore more generalizable.\n",
    "\n",
    "**`solver`:**\n",
    "\n",
    " * **liblinear:** For small datasets or for use with l1 regularization.\n",
    " * **lbfgs, newton-cg:** For medium and large datasets. They only support l2 regularization.\n",
    " * **sag, saga:** For very large datasets. saga is the only one that supports l1, l2 and elasticnet.\n",
    "\n",
    "**`max_iter`:**\n",
    "\n",
    " * **High number:** If the model does not reach convergence (i.e., has not finished learning) with the default parameters. Useful for complex datasets or with strict regularization parameters."
   ]
  },
  {
   "cell_type": "code",
   "execution_count": 6,
   "id": "613703de-2358-4eb4-a307-34088ece7406",
   "metadata": {},
   "outputs": [
    {
     "data": {
      "text/html": [
       "<style>#sk-container-id-1 {color: black;background-color: white;}#sk-container-id-1 pre{padding: 0;}#sk-container-id-1 div.sk-toggleable {background-color: white;}#sk-container-id-1 label.sk-toggleable__label {cursor: pointer;display: block;width: 100%;margin-bottom: 0;padding: 0.3em;box-sizing: border-box;text-align: center;}#sk-container-id-1 label.sk-toggleable__label-arrow:before {content: \"▸\";float: left;margin-right: 0.25em;color: #696969;}#sk-container-id-1 label.sk-toggleable__label-arrow:hover:before {color: black;}#sk-container-id-1 div.sk-estimator:hover label.sk-toggleable__label-arrow:before {color: black;}#sk-container-id-1 div.sk-toggleable__content {max-height: 0;max-width: 0;overflow: hidden;text-align: left;background-color: #f0f8ff;}#sk-container-id-1 div.sk-toggleable__content pre {margin: 0.2em;color: black;border-radius: 0.25em;background-color: #f0f8ff;}#sk-container-id-1 input.sk-toggleable__control:checked~div.sk-toggleable__content {max-height: 200px;max-width: 100%;overflow: auto;}#sk-container-id-1 input.sk-toggleable__control:checked~label.sk-toggleable__label-arrow:before {content: \"▾\";}#sk-container-id-1 div.sk-estimator input.sk-toggleable__control:checked~label.sk-toggleable__label {background-color: #d4ebff;}#sk-container-id-1 div.sk-label input.sk-toggleable__control:checked~label.sk-toggleable__label {background-color: #d4ebff;}#sk-container-id-1 input.sk-hidden--visually {border: 0;clip: rect(1px 1px 1px 1px);clip: rect(1px, 1px, 1px, 1px);height: 1px;margin: -1px;overflow: hidden;padding: 0;position: absolute;width: 1px;}#sk-container-id-1 div.sk-estimator {font-family: monospace;background-color: #f0f8ff;border: 1px dotted black;border-radius: 0.25em;box-sizing: border-box;margin-bottom: 0.5em;}#sk-container-id-1 div.sk-estimator:hover {background-color: #d4ebff;}#sk-container-id-1 div.sk-parallel-item::after {content: \"\";width: 100%;border-bottom: 1px solid gray;flex-grow: 1;}#sk-container-id-1 div.sk-label:hover label.sk-toggleable__label {background-color: #d4ebff;}#sk-container-id-1 div.sk-serial::before {content: \"\";position: absolute;border-left: 1px solid gray;box-sizing: border-box;top: 0;bottom: 0;left: 50%;z-index: 0;}#sk-container-id-1 div.sk-serial {display: flex;flex-direction: column;align-items: center;background-color: white;padding-right: 0.2em;padding-left: 0.2em;position: relative;}#sk-container-id-1 div.sk-item {position: relative;z-index: 1;}#sk-container-id-1 div.sk-parallel {display: flex;align-items: stretch;justify-content: center;background-color: white;position: relative;}#sk-container-id-1 div.sk-item::before, #sk-container-id-1 div.sk-parallel-item::before {content: \"\";position: absolute;border-left: 1px solid gray;box-sizing: border-box;top: 0;bottom: 0;left: 50%;z-index: -1;}#sk-container-id-1 div.sk-parallel-item {display: flex;flex-direction: column;z-index: 1;position: relative;background-color: white;}#sk-container-id-1 div.sk-parallel-item:first-child::after {align-self: flex-end;width: 50%;}#sk-container-id-1 div.sk-parallel-item:last-child::after {align-self: flex-start;width: 50%;}#sk-container-id-1 div.sk-parallel-item:only-child::after {width: 0;}#sk-container-id-1 div.sk-dashed-wrapped {border: 1px dashed gray;margin: 0 0.4em 0.5em 0.4em;box-sizing: border-box;padding-bottom: 0.4em;background-color: white;}#sk-container-id-1 div.sk-label label {font-family: monospace;font-weight: bold;display: inline-block;line-height: 1.2em;}#sk-container-id-1 div.sk-label-container {text-align: center;}#sk-container-id-1 div.sk-container {/* jupyter's `normalize.less` sets `[hidden] { display: none; }` but bootstrap.min.css set `[hidden] { display: none !important; }` so we also need the `!important` here to be able to override the default hidden behavior on the sphinx rendered scikit-learn.org. See: https://github.com/scikit-learn/scikit-learn/issues/21755 */display: inline-block !important;position: relative;}#sk-container-id-1 div.sk-text-repr-fallback {display: none;}</style><div id=\"sk-container-id-1\" class=\"sk-top-container\"><div class=\"sk-text-repr-fallback\"><pre>LogisticRegression(solver=&#x27;liblinear&#x27;)</pre><b>In a Jupyter environment, please rerun this cell to show the HTML representation or trust the notebook. <br />On GitHub, the HTML representation is unable to render, please try loading this page with nbviewer.org.</b></div><div class=\"sk-container\" hidden><div class=\"sk-item\"><div class=\"sk-estimator sk-toggleable\"><input class=\"sk-toggleable__control sk-hidden--visually\" id=\"sk-estimator-id-1\" type=\"checkbox\" checked><label for=\"sk-estimator-id-1\" class=\"sk-toggleable__label sk-toggleable__label-arrow\">LogisticRegression</label><div class=\"sk-toggleable__content\"><pre>LogisticRegression(solver=&#x27;liblinear&#x27;)</pre></div></div></div></div></div>"
      ],
      "text/plain": [
       "LogisticRegression(solver='liblinear')"
      ]
     },
     "execution_count": 6,
     "metadata": {},
     "output_type": "execute_result"
    }
   ],
   "source": [
    "from sklearn.model_selection import train_test_split\n",
    "from sklearn.linear_model import LogisticRegression\n",
    "\n",
    "\n",
    "np.random.seed(0)\n",
    "model = LogisticRegression(penalty= 'l2', solver= 'liblinear')\n",
    "x_train, x_test, y_train, y_test = train_test_split(X_transformed, y_encoded, test_size=0.2, random_state=0)\n",
    "model.fit(x_train, y_train)"
   ]
  },
  {
   "cell_type": "markdown",
   "id": "421b790c-fc01-4d34-8570-12c897ecd405",
   "metadata": {},
   "source": [
    "## Evaluate Model"
   ]
  },
  {
   "cell_type": "code",
   "execution_count": 7,
   "id": "85dbd2b3-76be-42af-aea2-671a676f0749",
   "metadata": {},
   "outputs": [
    {
     "data": {
      "image/png": "[encoded data removed]",
      "text/plain": [
       "<Figure size 600x400 with 1 Axes>"
      ]
     },
     "metadata": {},
     "output_type": "display_data"
    },
    {
     "name": "stdout",
     "output_type": "stream",
     "text": [
      "              precision    recall  f1-score   support\n",
      "\n",
      "           0       0.97      1.00      0.98       955\n",
      "           1       0.98      0.81      0.89       160\n",
      "\n",
      "    accuracy                           0.97      1115\n",
      "   macro avg       0.97      0.90      0.94      1115\n",
      "weighted avg       0.97      0.97      0.97      1115\n",
      "\n"
     ]
    }
   ],
   "source": [
    "from sklearn import metrics\n",
    "\n",
    "predict = model.predict(x_test)\n",
    "confusion_matrix = metrics.confusion_matrix(y_test, predict)\n",
    "\n",
    "\n",
    "plt.figure(figsize=(6,4))\n",
    "sns.heatmap(confusion_matrix, annot=True, fmt='g', cbar=False)\n",
    "plt.xlabel('Predicted labels')\n",
    "plt.ylabel('True labels')\n",
    "plt.title('Confusion Matrix')\n",
    "plt.show()\n",
    "print(metrics.classification_report(y_true = y_test, y_pred = predict))"
   ]
  },
  {
   "cell_type": "markdown",
   "id": "7691f55c-4811-4c60-a32c-6619345f8e23",
   "metadata": {},
   "source": [
    "## Make a prediction"
   ]
  },
  {
   "cell_type": "code",
   "execution_count": 11,
   "id": "59bf33d9-a3b3-41ed-94c8-226ef89c06d2",
   "metadata": {},
   "outputs": [
    {
     "data": {
      "text/plain": [
       "['Spam']"
      ]
     },
     "execution_count": 11,
     "metadata": {},
     "output_type": "execute_result"
    }
   ],
   "source": [
    "from scipy.sparse import hstack, csr_matrix\n",
    "import string   # to find punctuation \n",
    "\n",
    "def prediction(text):\n",
    "    # Transformation du texte en numerique pour que le modèle puisse comprendre\n",
    "    transformed_text = vectorizer.transform(text)   \n",
    "\n",
    "    length = [len(text[0])]    # calcule le nombre de mots. \n",
    "    punct = [sum(char in string.punctuation for char in text[0])]    # calcule le nombre de ponctuation\n",
    "\n",
    "    # Transformation de la taille en matrix\n",
    "    length_matrix = csr_matrix(length)\n",
    "    punct_matrix = csr_matrix(punct)\n",
    "\n",
    "    # Combine all the features\n",
    "    combined_features = hstack([transformed_text, length_matrix, punct_matrix])  # parfois Transpose(T)\n",
    "    prediction = model.predict(combined_features)\n",
    "\n",
    "    result = ['Ham' if prediction == 0 else 'Spam']\n",
    "    return result\n",
    "\n",
    "## Enter a random text\n",
    "text = ['You\\'re the LUCKY winner of our lottery!!! To CLAIM your $500,000 prize, simply provide your bank details and personal information NOW!!! Act QUICKLY!!!']\n",
    "prediction(text)"
   ]
  }
 ],
 "metadata": {
  "kernelspec": {
   "display_name": "Python 3 (ipykernel)",
   "language": "python",
   "name": "python3"
  },
  "language_info": {
   "codemirror_mode": {
    "name": "ipython",
    "version": 3
   },
   "file_extension": ".py",
   "mimetype": "text/x-python",
   "name": "python",
   "nbconvert_exporter": "python",
   "pygments_lexer": "ipython3",
   "version": "3.10.9"
  }
 },
 "nbformat": 4,
 "nbformat_minor": 5
}
